{
 "cells": [
  {
   "cell_type": "code",
   "execution_count": 58,
   "metadata": {},
   "outputs": [
    {
     "ename": "TypeError",
     "evalue": "Converting py args to operator properties: : keyword \"enter_editmode\" unrecognized",
     "output_type": "error",
     "traceback": [
      "\u001b[0;31m---------------------------------------------------------------------------\u001b[0m",
      "\u001b[0;31mTypeError\u001b[0m                                 Traceback (most recent call last)",
      "Cell \u001b[0;32mIn[58], line 10\u001b[0m\n\u001b[1;32m      7\u001b[0m bpy\u001b[39m.\u001b[39mops\u001b[39m.\u001b[39mobject\u001b[39m.\u001b[39mselect_by_type(\u001b[39mtype\u001b[39m\u001b[39m=\u001b[39m\u001b[39m\"\u001b[39m\u001b[39mMESH\u001b[39m\u001b[39m\"\u001b[39m)\n\u001b[1;32m      8\u001b[0m bpy\u001b[39m.\u001b[39mops\u001b[39m.\u001b[39mobject\u001b[39m.\u001b[39mdelete()\n\u001b[0;32m---> 10\u001b[0m bpy\u001b[39m.\u001b[39;49mops\u001b[39m.\u001b[39;49mmesh\u001b[39m.\u001b[39;49mprimitive_torus_add(\n\u001b[1;32m     11\u001b[0m     major_radius\u001b[39m=\u001b[39;49m\u001b[39m0.75\u001b[39;49m,\n\u001b[1;32m     12\u001b[0m     minor_radius\u001b[39m=\u001b[39;49m\u001b[39m0.25\u001b[39;49m,\n\u001b[1;32m     13\u001b[0m     major_segments\u001b[39m=\u001b[39;49m\u001b[39m48\u001b[39;49m,\n\u001b[1;32m     14\u001b[0m     minor_segments\u001b[39m=\u001b[39;49m\u001b[39m12\u001b[39;49m,\n\u001b[1;32m     15\u001b[0m     enter_editmode\u001b[39m=\u001b[39;49m\u001b[39mFalse\u001b[39;49;00m,\n\u001b[1;32m     16\u001b[0m     align\u001b[39m=\u001b[39;49m\u001b[39m\"\u001b[39;49m\u001b[39mWORLD\u001b[39;49m\u001b[39m\"\u001b[39;49m,\n\u001b[1;32m     17\u001b[0m     location\u001b[39m=\u001b[39;49m(\u001b[39m0\u001b[39;49m, \u001b[39m0\u001b[39;49m, \u001b[39m0\u001b[39;49m),\n\u001b[1;32m     18\u001b[0m )\n\u001b[1;32m     20\u001b[0m light \u001b[39m=\u001b[39m bpy\u001b[39m.\u001b[39mdata\u001b[39m.\u001b[39mobjects[\u001b[39m\"\u001b[39m\u001b[39mLight\u001b[39m\u001b[39m\"\u001b[39m]\n\u001b[1;32m     21\u001b[0m light\u001b[39m.\u001b[39mlocation \u001b[39m=\u001b[39m (\u001b[39m4\u001b[39m, \u001b[39m0\u001b[39m, \u001b[39m2\u001b[39m)  \u001b[39m# Position the light to the left of the monkeys\u001b[39;00m\n",
      "File \u001b[0;32m~/projects/ipyblender-experimental/.venv/lib/python3.10/site-packages/bpy/3.6/scripts/modules/bpy/ops.py:113\u001b[0m, in \u001b[0;36m_BPyOpsSubModOp.__call__\u001b[0;34m(self, *args, **kw)\u001b[0m\n\u001b[1;32m    111\u001b[0m     ret \u001b[39m=\u001b[39m _op_call(\u001b[39mself\u001b[39m\u001b[39m.\u001b[39midname_py(), C_dict, kw, C_exec, C_undo)\n\u001b[1;32m    112\u001b[0m \u001b[39melse\u001b[39;00m:\n\u001b[0;32m--> 113\u001b[0m     ret \u001b[39m=\u001b[39m _op_call(\u001b[39mself\u001b[39;49m\u001b[39m.\u001b[39;49midname_py(), \u001b[39mNone\u001b[39;49;00m, kw)\n\u001b[1;32m    115\u001b[0m \u001b[39mif\u001b[39;00m \u001b[39m'\u001b[39m\u001b[39mFINISHED\u001b[39m\u001b[39m'\u001b[39m \u001b[39min\u001b[39;00m ret \u001b[39mand\u001b[39;00m context\u001b[39m.\u001b[39mwindow_manager \u001b[39m==\u001b[39m wm:\n\u001b[1;32m    116\u001b[0m     _BPyOpsSubModOp\u001b[39m.\u001b[39m_view_layer_update(context)\n",
      "\u001b[0;31mTypeError\u001b[0m: Converting py args to operator properties: : keyword \"enter_editmode\" unrecognized"
     ]
    }
   ],
   "source": [
    "import bpy\n",
    "from IPython.display import Image, display\n",
    "\n",
    "\n",
    "\n",
    "\n",
    "# Clear all existing mesh objects\n",
    "bpy.ops.object.select_all(action=\"DESELECT\")\n",
    "bpy.ops.object.select_by_type(type=\"MESH\")\n",
    "bpy.ops.object.delete()\n",
    "\n",
    "bpy.ops.mesh.primitive_monkey_add(\n",
    "    size=3, enter_editmode=False, align=\"WORLD\", location=(0, 1, 1)\n",
    ")\n",
    "\n",
    "light = bpy.data.objects[\"Light\"]\n",
    "light.location = (4, 0, 2)  # Position the light to the left of the monkeys\n",
    "\n",
    "\n",
    "\n",
    "# Render settings\n",
    "bpy.context.scene.render.resolution_x = 1000\n",
    "bpy.context.scene.render.resolution_y = 400\n",
    "bpy.context.scene.render.image_settings.file_format = \"PNG\"\n",
    "bpy.context.scene.render.filepath = \"test_monkeys.png\"\n",
    "\n",
    "camera = bpy.data.objects[\"Camera\"]\n",
    "camera.location = (5, -3, 4)\n",
    "camera.data.dof.use_dof = True\n",
    "camera.data.dof.focus_distance = \n",
    "camera.data.dof.aperture_fstop = 2.5  # Adjust this value to control blur amount\n",
    "\n",
    "# Render the image\n",
    "bpy.ops.render.render(write_still=True)\n",
    "\n",
    "# Save the image to the specified filepath\n",
    "bpy.data.images[\"Render Result\"].save_render(filepath=bpy.context.scene.render.filepath)\n",
    "\n",
    "display(Image(\"test_monkeys.png\"))"
   ]
  },
  {
   "cell_type": "code",
   "execution_count": null,
   "metadata": {},
   "outputs": [],
   "source": []
  }
 ],
 "metadata": {
  "kernelspec": {
   "display_name": ".venv",
   "language": "python",
   "name": "python3"
  },
  "language_info": {
   "codemirror_mode": {
    "name": "ipython",
    "version": 3
   },
   "file_extension": ".py",
   "mimetype": "text/x-python",
   "name": "python",
   "nbconvert_exporter": "python",
   "pygments_lexer": "ipython3",
   "version": "3.10.13"
  },
  "orig_nbformat": 4
 },
 "nbformat": 4,
 "nbformat_minor": 2
}
