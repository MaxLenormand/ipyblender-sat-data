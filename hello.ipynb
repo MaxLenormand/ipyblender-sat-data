{
 "cells": [
  {
   "cell_type": "code",
   "execution_count": null,
   "metadata": {},
   "outputs": [],
   "source": [
    "from ipyblender_experimental import Counter\n",
    "\n",
    "Counter()"
   ]
  },
  {
   "cell_type": "code",
   "execution_count": null,
   "metadata": {},
   "outputs": [],
   "source": [
    "import bpy\n",
    "from IPython.display import display, Image\n",
    "from pathlib import Path\n",
    "import base64\n",
    "\n",
    "# Clear all existing mesh objects\n",
    "bpy.ops.object.select_all(action='DESELECT')\n",
    "bpy.ops.object.select_by_type(type='MESH')\n",
    "bpy.ops.object.delete()\n",
    "\n",
    "# Create a new sphere mesh\n",
    "bpy.ops.mesh.primitive_uv_sphere_add(radius=1, enter_editmode=False, align='WORLD', location=(0, 0, 0))\n",
    "sphere = bpy.context.active_object\n",
    "\n",
    "# Create a red material\n",
    "red_material = bpy.data.materials.new(name=\"Red Material\")\n",
    "red_material.use_nodes = True\n",
    "nodes = red_material.node_tree.nodes\n",
    "nodes[\"Principled BSDF\"].inputs[\"Base Color\"].default_value = (1, 0, 0, 1)  # RGBA for red\n",
    "\n",
    "# Assign the red material to the sphere\n",
    "sphere.data.materials.append(red_material)\n",
    "\n",
    "# Setup the camera\n",
    "camera = bpy.data.cameras.new(\"Camera\")\n",
    "camera_obj = bpy.data.objects.new(\"Camera\", camera)\n",
    "bpy.context.collection.objects.link(camera_obj)\n",
    "camera_obj.location = (0, -5, 0)  # Position the camera in front of the sphere\n",
    "camera_obj.rotation_euler = (1.5708, 0, 0)  # Point the camera towards the sphere\n",
    "\n",
    "# Setup lighting\n",
    "light_data = bpy.data.lights.new(name=\"light\", type='POINT')\n",
    "light_object = bpy.data.objects.new(name=\"light\", object_data=light_data)\n",
    "bpy.context.collection.objects.link(light_object)\n",
    "light_object.location = (0, 0, 3)\n",
    "\n",
    "# Render settings\n",
    "bpy.context.scene.render.resolution_x = 1920\n",
    "bpy.context.scene.render.resolution_y = 1080\n",
    "bpy.context.scene.render.image_settings.file_format = 'PNG'\n",
    "bpy.context.scene.render.filepath = \"test_sphere.png\" \n",
    "\n",
    "# Render the image\n",
    "bpy.ops.render.render(write_still=True)\n",
    "\n",
    "# Save the image to the specified filepath\n",
    "bpy.data.images['Render Result'].save_render(filepath=bpy.context.scene.render.filepath)\n",
    "\n",
    "# Read the saved image into memory and encode it to base64\n",
    "temp_filepath = Path(bpy.context.scene.render.filepath)\n",
    "with temp_filepath.open('rb') as f:\n",
    "    my_img = base64.b64encode(f.read()).decode('utf-8')\n",
    "\n",
    "# Optionally, you can delete the temporary saved image\n",
    "temp_filepath.unlink()\n",
    "\n",
    "# Display the image\n",
    "print(my_img)"
   ]
  },
  {
   "cell_type": "code",
   "execution_count": null,
   "metadata": {},
   "outputs": [],
   "source": []
  }
 ],
 "metadata": {
  "kernelspec": {
   "display_name": "ipyblender-experimental",
   "language": "python",
   "name": "python3"
  },
  "language_info": {
   "codemirror_mode": {
    "name": "ipython",
    "version": 3
   },
   "file_extension": ".py",
   "mimetype": "text/x-python",
   "name": "python",
   "nbconvert_exporter": "python",
   "pygments_lexer": "ipython3",
   "version": "3.10.13"
  },
  "orig_nbformat": 4
 },
 "nbformat": 4,
 "nbformat_minor": 2
}
