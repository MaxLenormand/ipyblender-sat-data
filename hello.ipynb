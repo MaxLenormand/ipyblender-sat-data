{
 "cells": [
  {
   "cell_type": "code",
   "execution_count": null,
   "metadata": {},
   "outputs": [],
   "source": [
    "print(\"Ho\")"
   ]
  },
  {
   "cell_type": "code",
   "execution_count": null,
   "metadata": {},
   "outputs": [],
   "source": [
    "from ipyblender_experimental import Counter\n",
    "\n",
    "Counter()"
   ]
  },
  {
   "cell_type": "code",
   "execution_count": 15,
   "metadata": {},
   "outputs": [
    {
     "name": "stdout",
     "output_type": "stream",
     "text": [
      "Fra:1 Mem:14.13M (Peak 14.13M) | Time:00:00.00 | Syncing Light\n",
      "Fra:1 Mem:14.13M (Peak 14.13M) | Time:00:00.00 | Syncing Camera\n",
      "Fra:1 Mem:14.13M (Peak 14.13M) | Time:00:00.00 | Syncing Camera.001\n",
      "Fra:1 Mem:14.13M (Peak 14.13M) | Time:00:00.00 | Syncing light\n",
      "Fra:1 Mem:14.13M (Peak 14.13M) | Time:00:00.00 | Syncing Camera.002\n",
      "Fra:1 Mem:14.13M (Peak 14.13M) | Time:00:00.00 | Syncing light.001\n",
      "Fra:1 Mem:14.13M (Peak 14.13M) | Time:00:00.00 | Syncing Camera.003\n",
      "Fra:1 Mem:14.13M (Peak 14.13M) | Time:00:00.00 | Syncing light.002\n",
      "Fra:1 Mem:14.13M (Peak 14.13M) | Time:00:00.00 | Syncing Camera.004\n",
      "Fra:1 Mem:14.13M (Peak 14.13M) | Time:00:00.00 | Syncing light.003\n",
      "Fra:1 Mem:14.13M (Peak 14.13M) | Time:00:00.00 | Syncing Camera.005\n",
      "Fra:1 Mem:14.13M (Peak 14.13M) | Time:00:00.00 | Syncing light.004\n",
      "Fra:1 Mem:14.13M (Peak 14.13M) | Time:00:00.00 | Syncing Camera.006\n",
      "Fra:1 Mem:14.13M (Peak 14.13M) | Time:00:00.00 | Syncing light.005\n",
      "Fra:1 Mem:14.13M (Peak 14.13M) | Time:00:00.00 | Syncing Camera.007\n",
      "Fra:1 Mem:14.13M (Peak 14.13M) | Time:00:00.00 | Syncing light.006\n",
      "Fra:1 Mem:14.13M (Peak 14.13M) | Time:00:00.00 | Syncing Camera.008\n",
      "Fra:1 Mem:14.13M (Peak 14.13M) | Time:00:00.00 | Syncing light.007\n",
      "Fra:1 Mem:14.13M (Peak 14.13M) | Time:00:00.00 | Syncing Camera.009\n",
      "Fra:1 Mem:14.13M (Peak 14.13M) | Time:00:00.00 | Syncing light.008\n",
      "Fra:1 Mem:14.13M (Peak 14.13M) | Time:00:00.00 | Syncing Camera.010\n",
      "Fra:1 Mem:14.13M (Peak 14.13M) | Time:00:00.00 | Syncing light.009\n",
      "Fra:1 Mem:14.13M (Peak 14.13M) | Time:00:00.00 | Syncing Camera.011\n",
      "Fra:1 Mem:14.13M (Peak 14.13M) | Time:00:00.00 | Syncing light.010\n",
      "Fra:1 Mem:14.13M (Peak 14.13M) | Time:00:00.00 | Syncing Camera.012\n",
      "Fra:1 Mem:14.13M (Peak 14.13M) | Time:00:00.00 | Syncing light.011\n",
      "Fra:1 Mem:14.13M (Peak 14.13M) | Time:00:00.00 | Syncing Sphere\n",
      "Fra:1 Mem:14.34M (Peak 14.34M) | Time:00:00.00 | Syncing Camera.013\n",
      "Fra:1 Mem:14.34M (Peak 14.34M) | Time:00:00.00 | Syncing light.012\n",
      "Fra:1 Mem:14.34M (Peak 14.34M) | Time:00:00.00 | Rendering 1 / 64 samples\n",
      "Fra:1 Mem:14.30M (Peak 14.34M) | Time:00:00.19 | Rendering 26 / 64 samples\n",
      "Fra:1 Mem:14.30M (Peak 14.34M) | Time:00:00.35 | Rendering 51 / 64 samples\n",
      "Fra:1 Mem:14.30M (Peak 14.34M) | Time:00:00.45 | Rendering 64 / 64 samples\n",
      "Saved: 'test.png'\n",
      " Time: 00:00.46 (Saving: 00:00.00)\n",
      "\n"
     ]
    },
    {
     "data": {
      "image/png": "[encoded data removed]",
      "text/plain": [
       "<IPython.core.display.Image object>"
      ]
     },
     "execution_count": 15,
     "metadata": {},
     "output_type": "execute_result"
    }
   ],
   "source": [
    "import bpy\n",
    "from IPython.display import display, Image\n",
    "\n",
    "# Clear all existing mesh objects\n",
    "bpy.ops.object.select_all(action='DESELECT')\n",
    "bpy.ops.object.select_by_type(type='MESH')\n",
    "bpy.ops.object.delete()\n",
    "\n",
    "# Create a new sphere mesh\n",
    "bpy.ops.mesh.primitive_uv_sphere_add(radius=1, enter_editmode=False, align='WORLD', location=(0, 0, 0))\n",
    "sphere = bpy.context.active_object\n",
    "\n",
    "# Create a red material\n",
    "red_material = bpy.data.materials.new(name=\"Red Material\")\n",
    "red_material.use_nodes = True\n",
    "nodes = red_material.node_tree.nodes\n",
    "nodes[\"Principled BSDF\"].inputs[\"Base Color\"].default_value = (1, 0, 0, 1)  # RGBA for red\n",
    "\n",
    "# Assign the red material to the sphere\n",
    "sphere.data.materials.append(red_material)\n",
    "\n",
    "# Setup the camera\n",
    "camera = bpy.data.cameras.new(\"Camera\")\n",
    "camera_obj = bpy.data.objects.new(\"Camera\", camera)\n",
    "bpy.context.collection.objects.link(camera_obj)\n",
    "camera_obj.location = (0, -5, 0)  # Position the camera in front of the sphere\n",
    "camera_obj.rotation_euler = (1.5708, 0, 0)  # Point the camera towards the sphere\n",
    "\n",
    "# Setup lighting\n",
    "light_data = bpy.data.lights.new(name=\"light\", type='POINT')\n",
    "light_object = bpy.data.objects.new(name=\"light\", object_data=light_data)\n",
    "bpy.context.collection.objects.link(light_object)\n",
    "light_object.location = (0, 0, 3)\n",
    "\n",
    "# Render settings\n",
    "bpy.context.scene.render.resolution_x = 192\n",
    "bpy.context.scene.render.resolution_y = 108\n",
    "bpy.context.scene.render.image_settings.file_format = 'PNG'\n",
    "bpy.context.scene.render.filepath = \"test.png\" \n",
    "\n",
    "# Render the image\n",
    "bpy.ops.render.render(write_still=True)\n",
    "\n",
    "# Save the image to the specified filepath\n",
    "bpy.data.images['Render Result'].save_render(filepath=bpy.context.scene.render.filepath)\n",
    "\n",
    "Image(filename='test.png')\n"
   ]
  },
  {
   "cell_type": "code",
   "execution_count": null,
   "metadata": {},
   "outputs": [],
   "source": []
  }
 ],
 "metadata": {
  "kernelspec": {
   "display_name": "ipyblender-experimental",
   "language": "python",
   "name": "python3"
  },
  "language_info": {
   "codemirror_mode": {
    "name": "ipython",
    "version": 3
   },
   "file_extension": ".py",
   "mimetype": "text/x-python",
   "name": "python",
   "nbconvert_exporter": "python",
   "pygments_lexer": "ipython3",
   "version": "3.10.13"
  },
  "orig_nbformat": 4
 },
 "nbformat": 4,
 "nbformat_minor": 2
}
