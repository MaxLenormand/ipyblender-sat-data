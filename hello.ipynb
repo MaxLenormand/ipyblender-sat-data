{
 "cells": [
  {
   "cell_type": "code",
   "execution_count": null,
   "metadata": {},
   "outputs": [],
   "source": [
    "from ipyblender_experimental import Counter\n",
    "\n",
    "Counter()"
   ]
  },
  {
   "cell_type": "code",
   "execution_count": 13,
   "metadata": {},
   "outputs": [
    {
     "name": "stdout",
     "output_type": "stream",
     "text": [
      "Fra:1 Mem:14.37M (Peak 14.37M) | Time:00:00.00 | Syncing Light\n",
      "Fra:1 Mem:14.37M (Peak 14.37M) | Time:00:00.00 | Syncing Camera\n",
      "Fra:1 Mem:14.37M (Peak 14.37M) | Time:00:00.00 | Syncing Camera.001\n",
      "Fra:1 Mem:14.37M (Peak 14.37M) | Time:00:00.00 | Syncing light\n",
      "Fra:1 Mem:14.37M (Peak 14.37M) | Time:00:00.00 | Syncing Camera.002\n",
      "Fra:1 Mem:14.37M (Peak 14.37M) | Time:00:00.00 | Syncing light.001\n",
      "Fra:1 Mem:14.37M (Peak 14.37M) | Time:00:00.00 | Syncing Camera.003\n",
      "Fra:1 Mem:14.37M (Peak 14.37M) | Time:00:00.00 | Syncing light.002\n",
      "Fra:1 Mem:14.37M (Peak 14.37M) | Time:00:00.00 | Syncing Camera.004\n",
      "Fra:1 Mem:14.37M (Peak 14.37M) | Time:00:00.00 | Syncing light.003\n",
      "Fra:1 Mem:14.37M (Peak 14.37M) | Time:00:00.00 | Syncing Camera.005\n",
      "Fra:1 Mem:14.37M (Peak 14.37M) | Time:00:00.00 | Syncing light.004\n",
      "Fra:1 Mem:14.37M (Peak 14.37M) | Time:00:00.00 | Syncing Camera.006\n",
      "Fra:1 Mem:14.37M (Peak 14.37M) | Time:00:00.00 | Syncing light.005\n",
      "Fra:1 Mem:14.37M (Peak 14.37M) | Time:00:00.00 | Syncing Camera.007\n",
      "Fra:1 Mem:14.37M (Peak 14.37M) | Time:00:00.00 | Syncing light.006\n",
      "Fra:1 Mem:14.37M (Peak 14.37M) | Time:00:00.00 | Syncing Camera.008\n",
      "Fra:1 Mem:14.37M (Peak 14.37M) | Time:00:00.00 | Syncing light.007\n",
      "Fra:1 Mem:14.37M (Peak 14.37M) | Time:00:00.00 | Syncing Camera.009\n",
      "Fra:1 Mem:14.37M (Peak 14.37M) | Time:00:00.00 | Syncing light.008\n",
      "Fra:1 Mem:14.37M (Peak 14.37M) | Time:00:00.00 | Syncing Camera.010\n",
      "Fra:1 Mem:14.37M (Peak 14.37M) | Time:00:00.00 | Syncing light.009\n",
      "Fra:1 Mem:14.38M (Peak 14.38M) | Time:00:00.00 | Syncing Sphere\n",
      "Fra:1 Mem:14.59M (Peak 14.59M) | Time:00:00.00 | Syncing Camera.011\n",
      "Fra:1 Mem:14.59M (Peak 14.59M) | Time:00:00.00 | Syncing light.010\n",
      "Fra:1 Mem:14.59M (Peak 14.59M) | Time:00:00.00 | Rendering 1 / 64 samples\n",
      "Fra:1 Mem:14.54M (Peak 14.59M) | Time:00:00.15 | Rendering 26 / 64 samples\n",
      "Fra:1 Mem:14.54M (Peak 14.59M) | Time:00:00.29 | Rendering 51 / 64 samples\n",
      "Fra:1 Mem:14.54M (Peak 14.59M) | Time:00:00.36 | Rendering 64 / 64 samples\n",
      "Saved: 'test_sphere.png'\n",
      " Time: 00:00.36 (Saving: 00:00.00)\n",
      "\n"
     ]
    },
    {
     "data": {
      "image/png": "[encoded data removed]",
      "text/plain": [
       "<IPython.core.display.Image object>"
      ]
     },
     "execution_count": 13,
     "metadata": {},
     "output_type": "execute_result"
    }
   ],
   "source": [
    "import bpy\n",
    "from IPython.display import display, Image\n",
    "from pathlib import Path\n",
    "import base64\n",
    "\n",
    "# Clear all existing mesh objects\n",
    "bpy.ops.object.select_all(action='DESELECT')\n",
    "bpy.ops.object.select_by_type(type='MESH')\n",
    "bpy.ops.object.delete()\n",
    "\n",
    "# Create a new sphere mesh\n",
    "bpy.ops.mesh.primitive_uv_sphere_add(radius=1, enter_editmode=False, align='WORLD', location=(0, 0, 0))\n",
    "sphere = bpy.context.active_object\n",
    "\n",
    "# Rainbow colors (R, G, B, A)\n",
    "rainbow_colors = [\n",
    "    (0.941, 0.129, 0.427, 1),  # Red\n",
    "    (0.933, 0.376, 0.133, 1),  # Orange\n",
    "    (0.929, 0.725, 0.133, 1),  # Yellow\n",
    "    (0.525, 0.808, 0.141, 1),  # Green\n",
    "    (0.133, 0.702, 0.933, 1),  # Blue\n",
    "    (0.141, 0.349, 0.808, 1),  # Indigo\n",
    "    (0.639, 0.141, 0.808, 1),  # Violet\n",
    "]\n",
    "\n",
    "# Counter variable\n",
    "counter = 1  # For example\n",
    "\n",
    "# Create a material with the color based on the counter\n",
    "material = bpy.data.materials.new(name=\"Rainbow Material\")\n",
    "material.use_nodes = True\n",
    "nodes = material.node_tree.nodes\n",
    "nodes[\"Principled BSDF\"].inputs[\"Base Color\"].default_value = rainbow_colors[counter%7]\n",
    "\n",
    "# Assign the material to the sphere\n",
    "sphere.data.materials.append(material)\n",
    "# Setup the camera\n",
    "camera = bpy.data.cameras.new(\"Camera\")\n",
    "camera_obj = bpy.data.objects.new(\"Camera\", camera)\n",
    "bpy.context.collection.objects.link(camera_obj)\n",
    "camera_obj.location = (0, -5, 0)  # Position the camera in front of the sphere\n",
    "camera_obj.rotation_euler = (1.5708, 0, 0)  # Point the camera towards the sphere\n",
    "\n",
    "# Setup lighting\n",
    "light_data = bpy.data.lights.new(name=\"light\", type='POINT')\n",
    "light_object = bpy.data.objects.new(name=\"light\", object_data=light_data)\n",
    "bpy.context.collection.objects.link(light_object)\n",
    "light_object.location = (0, 0, 3)\n",
    "\n",
    "# Render settings\n",
    "bpy.context.scene.render.resolution_x = 192\n",
    "bpy.context.scene.render.resolution_y = 108\n",
    "bpy.context.scene.render.image_settings.file_format = 'PNG'\n",
    "bpy.context.scene.render.filepath = \"test_sphere.png\" \n",
    "\n",
    "# Render the image\n",
    "bpy.ops.render.render(write_still=True)\n",
    "\n",
    "# Save the image to the specified filepath\n",
    "bpy.data.images['Render Result'].save_render(filepath=bpy.context.scene.render.filepath)\n",
    "\n",
    "Image(\"test_sphere.png\")\n",
    "\n",
    "# # Read the saved image into memory and encode it to base64\n",
    "# temp_filepath = Path(bpy.context.scene.render.filepath)\n",
    "# with temp_filepath.open('rb') as f:\n",
    "#     my_img = base64.b64encode(f.read()).decode('utf-8')\n",
    "\n",
    "# # Optionally, you can delete the temporary saved image\n",
    "# temp_filepath.unlink()\n",
    "\n",
    "# # Display the image\n",
    "# print(my_img)"
   ]
  },
  {
   "cell_type": "code",
   "execution_count": null,
   "metadata": {},
   "outputs": [],
   "source": []
  }
 ],
 "metadata": {
  "kernelspec": {
   "display_name": "ipyblender-experimental",
   "language": "python",
   "name": "python3"
  },
  "language_info": {
   "codemirror_mode": {
    "name": "ipython",
    "version": 3
   },
   "file_extension": ".py",
   "mimetype": "text/x-python",
   "name": "python",
   "nbconvert_exporter": "python",
   "pygments_lexer": "ipython3",
   "version": "3.10.13"
  },
  "orig_nbformat": 4
 },
 "nbformat": 4,
 "nbformat_minor": 2
}
