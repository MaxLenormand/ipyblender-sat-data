{
 "cells": [
  {
   "cell_type": "code",
   "execution_count": null,
   "metadata": {},
   "outputs": [],
   "source": [
    "print(\"Ho\")"
   ]
  },
  {
   "cell_type": "code",
   "execution_count": null,
   "metadata": {},
   "outputs": [],
   "source": [
    "from ipyblender_experimental import Counter\n",
    "\n",
    "Counter()"
   ]
  },
  {
   "cell_type": "code",
   "execution_count": null,
   "metadata": {},
   "outputs": [],
   "source": [
    "import bpy\n",
    "from IPython.display import display, Image\n",
    "# Clear all existing mesh objects\n",
    "bpy.ops.object.select_all(action='DESELECT')\n",
    "bpy.ops.object.select_by_type(type='MESH')\n",
    "bpy.ops.object.delete()\n",
    "\n",
    "# Create a new square mesh (plane)\n",
    "bpy.ops.mesh.primitive_plane_add(size=2, enter_editmode=False, align='WORLD', location=(0, 0, 0))\n",
    "square = bpy.context.active_object\n",
    "\n",
    "# Create a red material\n",
    "red_material = bpy.data.materials.new(name=\"Red Material\")\n",
    "red_material.use_nodes = True\n",
    "nodes = red_material.node_tree.nodes\n",
    "nodes[\"Principled BSDF\"].inputs[\"Base Color\"].default_value = (1, 0, 0, 1)  # RGBA for red\n",
    "\n",
    "# Assign the red material to the square\n",
    "square.data.materials.append(red_material)\n",
    "\n",
    "# Setup the camera\n",
    "camera = bpy.data.cameras.new(\"Camera\")\n",
    "camera_obj = bpy.data.objects.new(\"Camera\", camera)\n",
    "bpy.context.collection.objects.link(camera_obj)\n",
    "camera_obj.location = (0, 0, 5)  # Position the camera above the square\n",
    "camera_obj.rotation_euler = (0, 0, 0)  # Point the camera downwards\n",
    "\n",
    "# Setup lighting\n",
    "light_data = bpy.data.lights.new(name=\"light\", type='POINT')\n",
    "light_object = bpy.data.objects.new(name=\"light\", object_data=light_data)\n",
    "bpy.context.collection.objects.link(light_object)\n",
    "light_object.location = (0, 0, 3)\n",
    "\n",
    "# Render settings\n",
    "bpy.context.scene.render.resolution_x = 1920\n",
    "bpy.context.scene.render.resolution_y = 1080\n",
    "bpy.context.scene.render.image_settings.file_format = 'PNG'\n",
    "bpy.context.scene.render.filepath = \"test.png\" \n",
    "\n",
    "# Render the image\n",
    "bpy.ops.render.render(write_still=True)\n",
    "\n",
    "# Save the image to the specified filepath\n",
    "bpy.data.images['Render Result'].save_render(filepath=bpy.context.scene.render.filepath)\n",
    "\n",
    "Image(filename='test.png')\n"
   ]
  },
  {
   "cell_type": "code",
   "execution_count": null,
   "metadata": {},
   "outputs": [],
   "source": []
  }
 ],
 "metadata": {
  "kernelspec": {
   "display_name": "ipyblender-experimental",
   "language": "python",
   "name": "python3"
  },
  "language_info": {
   "codemirror_mode": {
    "name": "ipython",
    "version": 3
   },
   "file_extension": ".py",
   "mimetype": "text/x-python",
   "name": "python",
   "nbconvert_exporter": "python",
   "pygments_lexer": "ipython3",
   "version": "3.10.13"
  },
  "orig_nbformat": 4
 },
 "nbformat": 4,
 "nbformat_minor": 2
}
